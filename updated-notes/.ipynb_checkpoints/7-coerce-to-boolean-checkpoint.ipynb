{
 "cells": [
  {
   "cell_type": "markdown",
   "metadata": {},
   "source": [
    "# Coercing to Booleans"
   ]
  },
  {
   "cell_type": "markdown",
   "metadata": {},
   "source": [
    "1. GEt the object df"
   ]
  },
  {
   "cell_type": "code",
   "execution_count": 6,
   "metadata": {},
   "outputs": [],
   "source": [
    "# df\n",
    "\n",
    "object_df = df.select_dtypes('object')\n",
    "\n",
    "# [col for col in object_df.columns if is_date_time(object_df[col])]"
   ]
  },
  {
   "cell_type": "markdown",
   "metadata": {},
   "source": [
    "2. Identify columns to change similarly"
   ]
  },
  {
   "cell_type": "code",
   "execution_count": 8,
   "metadata": {},
   "outputs": [],
   "source": [
    "# almost_datetime_cols = object_df.apply(lambda col: is_date_time(col))"
   ]
  },
  {
   "cell_type": "markdown",
   "metadata": {},
   "source": [
    "3. Loop through and make the change"
   ]
  },
  {
   "cell_type": "code",
   "execution_count": 9,
   "metadata": {},
   "outputs": [],
   "source": [
    "# steps = [ ( [almost_dt_col], FunctionTransformer(change_it_to_date)) for almost_dt_col in almost_datetime_cols]"
   ]
  },
  {
   "cell_type": "code",
   "execution_count": null,
   "metadata": {},
   "outputs": [],
   "source": [
    "from sklearn_pandas import DataFrameMapper\n",
    "\n",
    "mapper = DataFrameMapper(steps, df_out = True)\n",
    "mapper.fit_transform()\n",
    "\n",
    "# columns that we coerced"
   ]
  },
  {
   "cell_type": "markdown",
   "metadata": {},
   "source": [
    "### Loading our AirBnb Data"
   ]
  },
  {
   "cell_type": "markdown",
   "metadata": {},
   "source": [
    "For this lesson, we'll work with [AirBnb listings in Berlin](https://www.kaggle.com/brittabettendorf/berlin-airbnb-data).  Let's load our data."
   ]
  },
  {
   "cell_type": "code",
   "execution_count": 10,
   "metadata": {},
   "outputs": [],
   "source": [
    "import pandas as pd\n",
    "df = pd.read_csv('./nums_and_dates_ten_k.csv', index_col = 0)"
   ]
  },
  {
   "cell_type": "code",
   "execution_count": 12,
   "metadata": {},
   "outputs": [],
   "source": [
    "potential_date_cols = ['last_scraped',\n",
    " 'host_since',\n",
    " 'calendar_last_scraped',\n",
    " 'first_review',\n",
    " 'last_review']\n",
    "df[potential_date_cols] = df[potential_date_cols].astype('datetime64')"
   ]
  },
  {
   "cell_type": "code",
   "execution_count": 221,
   "metadata": {},
   "outputs": [],
   "source": [
    "def contains_date(column):\n",
    "#     remove nas first, potentially use all\n",
    "    regex_string = (r'^\\d{1,2}-\\d{1,2}-\\d{4}$|^\\d{4}-\\d{1,2}-\\d{1,2}$' + \n",
    "'|^\\d{1,2}\\/\\d{1,2}\\/\\d{4}$|^\\d{4}\\/\\d{1,2}\\/\\d{1,2}$')\n",
    "    return column.str.contains(regex_string).any()"
   ]
  },
  {
   "cell_type": "markdown",
   "metadata": {},
   "source": [
    "### Feature engineering"
   ]
  },
  {
   "cell_type": "code",
   "execution_count": 17,
   "metadata": {},
   "outputs": [
    {
     "data": {
      "text/plain": [
       "2018-11-07    7999\n",
       "2018-11-09       1\n",
       "Name: last_scraped, dtype: int64"
      ]
     },
     "execution_count": 17,
     "metadata": {},
     "output_type": "execute_result"
    }
   ],
   "source": [
    ".value_counts()"
   ]
  },
  {
   "cell_type": "code",
   "execution_count": 19,
   "metadata": {},
   "outputs": [
    {
     "data": {
      "text/plain": [
       "array(['2018-11-07T00:00:00.000000000', '2018-11-09T00:00:00.000000000'],\n",
       "      dtype='datetime64[ns]')"
      ]
     },
     "execution_count": 19,
     "metadata": {},
     "output_type": "execute_result"
    }
   ],
   "source": [
    "df['last_scraped'].unique()"
   ]
  },
  {
   "cell_type": "code",
   "execution_count": 21,
   "metadata": {},
   "outputs": [],
   "source": [
    "def percent_different(df_series):\n",
    "    series_filled = df_series.dropna()\n",
    "    return len(series_filled.unique())/len(series_filled)"
   ]
  },
  {
   "cell_type": "code",
   "execution_count": 24,
   "metadata": {},
   "outputs": [],
   "source": [
    "# percent_different(df['last_scraped'])"
   ]
  },
  {
   "cell_type": "code",
   "execution_count": 25,
   "metadata": {},
   "outputs": [],
   "source": [
    "def find_categorical(df, threshold = .5):    \n",
    "    categorical_df = pd.DataFrame({})\n",
    "    for column in df.columns:\n",
    "        if percent_different(df[column]) < threshold:\n",
    "            categorical_df[column] = df[column]\n",
    "    return categorical_df "
   ]
  },
  {
   "cell_type": "code",
   "execution_count": 92,
   "metadata": {},
   "outputs": [],
   "source": [
    "cat_df = find_categorical(df.select_dtypes('object'))"
   ]
  },
  {
   "cell_type": "code",
   "execution_count": 94,
   "metadata": {},
   "outputs": [],
   "source": [
    "# cat_df"
   ]
  },
  {
   "cell_type": "markdown",
   "metadata": {},
   "source": [
    "### Combine with Selecting Categorical Columns"
   ]
  },
  {
   "cell_type": "code",
   "execution_count": 33,
   "metadata": {},
   "outputs": [],
   "source": [
    "def get_multiple_val_counts(df, num_vals = 1):\n",
    "    return [df[column].value_counts(normalize=True).iloc[:num_vals] for column in df.columns]"
   ]
  },
  {
   "cell_type": "code",
   "execution_count": 35,
   "metadata": {},
   "outputs": [],
   "source": [
    "# get_multiple_val_counts(cat_df, 2)"
   ]
  },
  {
   "cell_type": "code",
   "execution_count": 37,
   "metadata": {},
   "outputs": [],
   "source": [
    "import numpy as np\n",
    "def summarize_cats(df):\n",
    "    multiple_val_counts = get_multiple_val_counts(df)\n",
    "    stacked_counts = np.vstack([np.array([val_count.name, val_count.index[0], float(val_count.values[0])]) for val_count in multiple_val_counts])\n",
    "    sorted_cols = np.argsort(stacked_counts.reshape(-1, 3)[:, 2].astype('float'))\n",
    "    return stacked_counts[sorted_cols[::-1]]"
   ]
  },
  {
   "cell_type": "code",
   "execution_count": 95,
   "metadata": {},
   "outputs": [],
   "source": [
    "summary = summarize_cats(cat_df)"
   ]
  },
  {
   "cell_type": "code",
   "execution_count": 96,
   "metadata": {},
   "outputs": [
    {
     "data": {
      "text/plain": [
       "array([['requires_license', 't', '0.99975'],\n",
       "       ['market', 'Berlin', '0.99975'],\n",
       "       ['state', 'Berlin', '0.9978704747588626'],\n",
       "       ['host_has_profile_pic', 't', '0.9976193459466233'],\n",
       "       ['smart_location', 'Berlin, Germany', '0.99175'],\n",
       "       ['city', 'Berlin', '0.9917489686210776'],\n",
       "       ['street', 'Berlin, Berlin, Germany', '0.989125'],\n",
       "       ['require_guest_profile_picture', 'f', '0.984375'],\n",
       "       ['require_guest_phone_verification', 'f', '0.975125'],\n",
       "       ['bed_type', 'Real Bed', '0.93525'],\n",
       "       ['property_type', 'Apartment', '0.899'],\n",
       "       ['host_is_superhost', 'f', '0.8743265254980579'],\n",
       "       ['instant_bookable', 'f', '0.839'],\n",
       "       ['host_location', 'Berlin, Berlin, Germany', '0.8262015309323629'],\n",
       "       ['is_location_exact', 't', '0.761625'],\n",
       "       ['room_type', 'Entire home/apt', '0.54125'],\n",
       "       ['host_identity_verified', 't', '0.5090840746773587'],\n",
       "       ['host_response_time', 'within an hour', '0.45789473684210524'],\n",
       "       ['cancellation_policy', 'flexible', '0.34125'],\n",
       "       ['neighbourhood_group_cleansed', 'Friedrichshain-Kreuzberg',\n",
       "        '0.255125'],\n",
       "       ['host_verifications',\n",
       "        \"['email', 'phone', 'reviews', 'jumio', 'government_id']\",\n",
       "        '0.224875'],\n",
       "       ['neighbourhood', 'Neukölln', '0.16922060766182298'],\n",
       "       ['host_neighbourhood', 'Neukölln', '0.16192390968141046'],\n",
       "       ['calendar_updated', 'today', '0.0905'],\n",
       "       ['neighbourhood_cleansed', 'Tempelhofer Vorstadt', '0.066125'],\n",
       "       ['zipcode', '10437', '0.03861945085963562'],\n",
       "       ['host_name', 'Anna', '0.008520235559453703']], dtype='<U55')"
      ]
     },
     "execution_count": 96,
     "metadata": {},
     "output_type": "execute_result"
    }
   ],
   "source": [
    "summary"
   ]
  },
  {
   "cell_type": "code",
   "execution_count": 98,
   "metadata": {},
   "outputs": [
    {
     "data": {
      "text/plain": [
       "array(['requires_license', 'host_has_profile_pic',\n",
       "       'require_guest_profile_picture',\n",
       "       'require_guest_phone_verification', 'host_is_superhost',\n",
       "       'instant_bookable', 'is_location_exact', 'host_identity_verified'],\n",
       "      dtype='<U55')"
      ]
     },
     "execution_count": 98,
     "metadata": {},
     "output_type": "execute_result"
    }
   ],
   "source": [
    "import numpy as np\n",
    "bool_cols = summary[np.isin(summary[:, 1], ['t', 'f'])]\n",
    "bool_cols[:, 0]"
   ]
  },
  {
   "cell_type": "code",
   "execution_count": 54,
   "metadata": {},
   "outputs": [],
   "source": [
    "bool_df = cat_df[bool_cols[:, 0]]"
   ]
  },
  {
   "cell_type": "code",
   "execution_count": 103,
   "metadata": {},
   "outputs": [],
   "source": [
    "# steps = [([col], [SimpleImputer(strategy='constant', fill_value='f'),MissingIndicator(missing_values='t')) for col in bool_cols[:, 0]]"
   ]
  },
  {
   "cell_type": "code",
   "execution_count": 70,
   "metadata": {},
   "outputs": [],
   "source": [
    "# get_multiple_val_counts(bool_df, 2)\n",
    "\n",
    "# bool_df"
   ]
  },
  {
   "cell_type": "code",
   "execution_count": 74,
   "metadata": {},
   "outputs": [],
   "source": [
    "from sklearn.impute import MissingIndicator, SimpleImputer\n",
    "missing_indicator_steps = [([col], [SimpleImputer(strategy='constant', fill_value = 'f'), MissingIndicator(missing_values='t')])for col in bool_cols[:, 0]]"
   ]
  },
  {
   "cell_type": "code",
   "execution_count": 75,
   "metadata": {},
   "outputs": [],
   "source": [
    "from sklearn_pandas import DataFrameMapper\n",
    "\n",
    "\n",
    "mapper = DataFrameMapper(missing_indicator_steps, df_out = True)"
   ]
  },
  {
   "cell_type": "code",
   "execution_count": 77,
   "metadata": {},
   "outputs": [],
   "source": [
    "bool_df = mapper.fit_transform(bool_df)"
   ]
  },
  {
   "cell_type": "code",
   "execution_count": 80,
   "metadata": {},
   "outputs": [],
   "source": [
    "# bool_df"
   ]
  },
  {
   "cell_type": "code",
   "execution_count": 84,
   "metadata": {},
   "outputs": [],
   "source": [
    "df_updated_bool = df.drop(columns = bool_df.columns)"
   ]
  },
  {
   "cell_type": "code",
   "execution_count": 91,
   "metadata": {},
   "outputs": [
    {
     "data": {
      "text/plain": [
       "8"
      ]
     },
     "execution_count": 91,
     "metadata": {},
     "output_type": "execute_result"
    }
   ],
   "source": [
    "len(bool_df.columns)"
   ]
  },
  {
   "cell_type": "code",
   "execution_count": 85,
   "metadata": {},
   "outputs": [],
   "source": [
    "df_updated_bool[bool_df.columns] = bool_df"
   ]
  },
  {
   "cell_type": "code",
   "execution_count": 86,
   "metadata": {},
   "outputs": [
    {
     "data": {
      "text/plain": [
       "(8000, 37)"
      ]
     },
     "execution_count": 86,
     "metadata": {},
     "output_type": "execute_result"
    }
   ],
   "source": [
    "df_updated_bool.select_dtypes('object').shape"
   ]
  },
  {
   "cell_type": "code",
   "execution_count": 87,
   "metadata": {},
   "outputs": [
    {
     "data": {
      "text/plain": [
       "(8000, 45)"
      ]
     },
     "execution_count": 87,
     "metadata": {},
     "output_type": "execute_result"
    }
   ],
   "source": [
    "df.select_dtypes('object').shape"
   ]
  },
  {
   "cell_type": "markdown",
   "metadata": {},
   "source": [
    "### Identifying Boolean Values"
   ]
  }
 ],
 "metadata": {
  "kernelspec": {
   "display_name": "Python 3",
   "language": "python",
   "name": "python3"
  },
  "language_info": {
   "codemirror_mode": {
    "name": "ipython",
    "version": 3
   },
   "file_extension": ".py",
   "mimetype": "text/x-python",
   "name": "python",
   "nbconvert_exporter": "python",
   "pygments_lexer": "ipython3",
   "version": "3.7.4"
  }
 },
 "nbformat": 4,
 "nbformat_minor": 4
}
