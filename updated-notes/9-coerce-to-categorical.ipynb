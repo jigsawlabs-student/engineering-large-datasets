{
 "cells": [
  {
   "cell_type": "markdown",
   "metadata": {},
   "source": [
    "# Coercing to Categorical"
   ]
  },
  {
   "cell_type": "markdown",
   "metadata": {},
   "source": [
    "### Introduction"
   ]
  },
  {
   "cell_type": "markdown",
   "metadata": {},
   "source": [
    "### Loading our AirBnb Data"
   ]
  },
  {
   "cell_type": "markdown",
   "metadata": {},
   "source": [
    "1. Go after the low hanging fruit \n",
    "1. Numeric \n",
    "        * price and percent\n",
    "2. Datetimes\n",
    "3. Booleans\n",
    "4. Categorical \n",
    "5. Datetimes-> add_datepart (weekday)\n",
    "6. Get rid of our nas -> impute, is_na column"
   ]
  },
  {
   "cell_type": "markdown",
   "metadata": {},
   "source": [
    "We'll start by loading the data where we last left off."
   ]
  },
  {
   "cell_type": "code",
   "execution_count": 11,
   "metadata": {},
   "outputs": [],
   "source": [
    "import pandas as pd\n",
    "df = pd.read_csv('./coerced_bools_complete.csv')"
   ]
  },
  {
   "cell_type": "markdown",
   "metadata": {},
   "source": [
    "And let's load our datatypes and set our them in our dataframe."
   ]
  },
  {
   "cell_type": "code",
   "execution_count": 12,
   "metadata": {},
   "outputs": [],
   "source": [
    "import requests \n",
    "url = \"https://raw.githubusercontent.com/jigsawlabs-student/engineering-large-datasets/master/coerced_bools_complete_dtypes.json\"\n",
    "response = requests.get(url)\n",
    "dtypes = response.json()\n",
    "\n",
    "# df.to_feather('./whatever.feather')"
   ]
  },
  {
   "cell_type": "code",
   "execution_count": 13,
   "metadata": {},
   "outputs": [],
   "source": [
    "df = df.astype(dtypes)"
   ]
  },
  {
   "cell_type": "code",
   "execution_count": 14,
   "metadata": {},
   "outputs": [],
   "source": [
    "object_df = df.select_dtypes('object')"
   ]
  },
  {
   "cell_type": "code",
   "execution_count": 16,
   "metadata": {},
   "outputs": [],
   "source": [
    "# object_df"
   ]
  },
  {
   "cell_type": "markdown",
   "metadata": {},
   "source": [
    "### Loading our Library"
   ]
  },
  {
   "cell_type": "code",
   "execution_count": 18,
   "metadata": {},
   "outputs": [],
   "source": [
    "def get_multiple_val_counts(df, num_vals = 1):\n",
    "    return [df[column].value_counts(normalize=True).iloc[:num_vals] for column in df.columns]"
   ]
  },
  {
   "cell_type": "code",
   "execution_count": 19,
   "metadata": {},
   "outputs": [],
   "source": [
    "import numpy as np\n",
    "def summarize_cats(df):\n",
    "    multiple_val_counts = get_multiple_val_counts(df)\n",
    "    stacked_counts = np.vstack([np.array([val_count.name, val_count.index[0], float(val_count.values[0])]) for val_count in multiple_val_counts])\n",
    "    sorted_cols = np.argsort(stacked_counts.reshape(-1, 3)[:, 2].astype('float'))\n",
    "    return stacked_counts[sorted_cols[::-1]]"
   ]
  },
  {
   "cell_type": "code",
   "execution_count": 20,
   "metadata": {},
   "outputs": [
    {
     "data": {
      "text/plain": [
       "array([['street', 'Berlin, Berlin, Germany', '0.989125'],\n",
       "       ['bed_type', 'Real Bed', '0.93525'],\n",
       "       ['property_type', 'Apartment', '0.899'],\n",
       "       ['host_is_superhost', 'f', '0.8743265254980579'],\n",
       "       ['host_location', 'Berlin, Berlin, Germany', '0.8262015309323629'],\n",
       "       ['room_type', 'Entire home/apt', '0.54125'],\n",
       "       ['host_identity_verified', 't', '0.5090840746773587'],\n",
       "       ['host_response_time', 'within an hour', '0.45789473684210524'],\n",
       "       ['cancellation_policy', 'flexible', '0.34125'],\n",
       "       ['neighbourhood_group_cleansed', 'Friedrichshain-Kreuzberg',\n",
       "        '0.255125']], dtype='<U1000')"
      ]
     },
     "execution_count": 20,
     "metadata": {},
     "output_type": "execute_result"
    }
   ],
   "source": [
    "summarize_cats(object_df)[:10]"
   ]
  },
  {
   "cell_type": "markdown",
   "metadata": {},
   "source": [
    "### Selecting Columns"
   ]
  },
  {
   "cell_type": "markdown",
   "metadata": {},
   "source": [
    "Then we can use the `selected_cat_values` method to take a deeper look at the values in each of the columns."
   ]
  },
  {
   "cell_type": "code",
   "execution_count": 22,
   "metadata": {},
   "outputs": [],
   "source": [
    "def selected_cat_values(column, threshold = .02):\n",
    "    values_counted = column.value_counts(normalize=True)\n",
    "    return values_counted[values_counted > threshold]"
   ]
  },
  {
   "cell_type": "code",
   "execution_count": 31,
   "metadata": {},
   "outputs": [],
   "source": [
    "# [selected_cat_values(object_df[col]) for col in object_df.columns][:20]"
   ]
  },
  {
   "cell_type": "markdown",
   "metadata": {},
   "source": [
    "### Coercing our Categorical Columns"
   ]
  },
  {
   "cell_type": "code",
   "execution_count": 53,
   "metadata": {},
   "outputs": [],
   "source": [
    "def reduce_cat_values(column, threshold = .02):\n",
    "    column = column.copy()\n",
    "    selected_values = selected_cat_values(column, threshold).index\n",
    "    column[~column.isin(selected_values)] = 'other'\n",
    "    column.astype('category')\n",
    "    return column"
   ]
  },
  {
   "cell_type": "code",
   "execution_count": null,
   "metadata": {},
   "outputs": [],
   "source": [
    "# FunctionTransformer()"
   ]
  },
  {
   "cell_type": "code",
   "execution_count": 36,
   "metadata": {},
   "outputs": [
    {
     "data": {
      "text/plain": [
       "array(['street', 'bed_type', 'property_type', 'host_is_superhost',\n",
       "       'host_location', 'room_type', 'host_identity_verified',\n",
       "       'host_response_time', 'cancellation_policy',\n",
       "       'neighbourhood_group_cleansed', 'host_verifications',\n",
       "       'neighbourhood', 'host_neighbourhood', 'calendar_updated',\n",
       "       'neighbourhood_cleansed', 'zipcode'], dtype='<U1000')"
      ]
     },
     "execution_count": 36,
     "metadata": {},
     "output_type": "execute_result"
    }
   ],
   "source": [
    "cat_cols = summarize_cats(object_df)[:16, 0]\n",
    "cat_cols"
   ]
  },
  {
   "cell_type": "code",
   "execution_count": 52,
   "metadata": {},
   "outputs": [
    {
     "data": {
      "text/plain": [
       "(8000, 16)"
      ]
     },
     "execution_count": 52,
     "metadata": {},
     "output_type": "execute_result"
    }
   ],
   "source": [
    "cat_df = object_df[cat_cols]\n",
    "cat_df.shape"
   ]
  },
  {
   "cell_type": "code",
   "execution_count": 39,
   "metadata": {},
   "outputs": [],
   "source": [
    "reduced_cat_df = cat_df.apply(lambda col: reduce_cat_values(col))"
   ]
  },
  {
   "cell_type": "code",
   "execution_count": 42,
   "metadata": {},
   "outputs": [],
   "source": [
    "# [for col in reduced_cat_df.columns]\n",
    "\n",
    "# get_multiple_val_counts(reduced_cat_df, num_vals = 3)"
   ]
  },
  {
   "cell_type": "markdown",
   "metadata": {},
   "source": [
    "### Integrating our Mapper"
   ]
  },
  {
   "cell_type": "code",
   "execution_count": 43,
   "metadata": {},
   "outputs": [
    {
     "data": {
      "text/plain": [
       "Index(['street', 'bed_type', 'property_type', 'host_is_superhost',\n",
       "       'host_location', 'room_type', 'host_identity_verified',\n",
       "       'host_response_time', 'cancellation_policy',\n",
       "       'neighbourhood_group_cleansed', 'host_verifications', 'neighbourhood',\n",
       "       'host_neighbourhood', 'calendar_updated', 'neighbourhood_cleansed',\n",
       "       'zipcode'],\n",
       "      dtype='object')"
      ]
     },
     "execution_count": 43,
     "metadata": {},
     "output_type": "execute_result"
    }
   ],
   "source": [
    "reduced_cat_df.columns"
   ]
  },
  {
   "cell_type": "code",
   "execution_count": 47,
   "metadata": {},
   "outputs": [],
   "source": [
    "from sklearn.preprocessing import OneHotEncoder\n",
    "steps = [([col], OneHotEncoder() )for col in reduced_cat_df.columns]"
   ]
  },
  {
   "cell_type": "code",
   "execution_count": 48,
   "metadata": {},
   "outputs": [],
   "source": [
    "from sklearn_pandas import DataFrameMapper\n",
    "\n",
    "mapper = DataFrameMapper(steps, df_out = True)"
   ]
  },
  {
   "cell_type": "code",
   "execution_count": 49,
   "metadata": {},
   "outputs": [],
   "source": [
    "transformed_cat = mapper.fit_transform(reduced_cat_df)"
   ]
  },
  {
   "cell_type": "code",
   "execution_count": 51,
   "metadata": {},
   "outputs": [
    {
     "data": {
      "text/plain": [
       "(8000, 123)"
      ]
     },
     "execution_count": 51,
     "metadata": {},
     "output_type": "execute_result"
    }
   ],
   "source": [
    "transformed_cat.shape"
   ]
  },
  {
   "cell_type": "code",
   "execution_count": 60,
   "metadata": {},
   "outputs": [],
   "source": [
    "coerced_cat_df = mapper.fit_transform(reduced_df)"
   ]
  },
  {
   "cell_type": "code",
   "execution_count": 56,
   "metadata": {},
   "outputs": [],
   "source": [
    "cat_cols = reduced_df.columns"
   ]
  },
  {
   "cell_type": "markdown",
   "metadata": {},
   "source": [
    "### Aggregating our Data"
   ]
  },
  {
   "cell_type": "markdown",
   "metadata": {},
   "source": [
    "At this point, we can take our original dataframe."
   ]
  },
  {
   "cell_type": "code",
   "execution_count": 62,
   "metadata": {},
   "outputs": [],
   "source": [
    "import pandas as pd\n",
    "df = pd.read_csv('./coerced_bools_complete.csv', index_col = 0)"
   ]
  },
  {
   "cell_type": "code",
   "execution_count": 63,
   "metadata": {},
   "outputs": [],
   "source": [
    "import json\n",
    "\n",
    "file = './coerced_bools_complete_dtypes.json'\n",
    "with open(file, 'r') as f:\n",
    "    dtypes = json.load(f)"
   ]
  },
  {
   "cell_type": "code",
   "execution_count": 64,
   "metadata": {},
   "outputs": [],
   "source": [
    "df = df.astype(dtypes)"
   ]
  },
  {
   "cell_type": "code",
   "execution_count": 65,
   "metadata": {},
   "outputs": [
    {
     "data": {
      "text/plain": [
       "(8000, 83)"
      ]
     },
     "execution_count": 65,
     "metadata": {},
     "output_type": "execute_result"
    }
   ],
   "source": [
    "df.shape"
   ]
  },
  {
   "cell_type": "markdown",
   "metadata": {},
   "source": [
    "And drop the categorical columns, and add in our `coerced_cat_df`."
   ]
  },
  {
   "cell_type": "code",
   "execution_count": 66,
   "metadata": {},
   "outputs": [],
   "source": [
    "df_dropped_cats = df.drop(columns = cat_cols)"
   ]
  },
  {
   "cell_type": "code",
   "execution_count": 67,
   "metadata": {},
   "outputs": [],
   "source": [
    "df_dropped_cats[coerced_cat_df.columns] = coerced_cat_df"
   ]
  },
  {
   "cell_type": "markdown",
   "metadata": {},
   "source": [
    "Let's take a look at what object columns we have left."
   ]
  },
  {
   "cell_type": "code",
   "execution_count": 68,
   "metadata": {},
   "outputs": [],
   "source": [
    "remaining_object_df = df_dropped_cats.select_dtypes('object')"
   ]
  },
  {
   "cell_type": "code",
   "execution_count": 69,
   "metadata": {},
   "outputs": [
    {
     "data": {
      "text/plain": [
       "(8000, 19)"
      ]
     },
     "execution_count": 69,
     "metadata": {},
     "output_type": "execute_result"
    }
   ],
   "source": [
    "remaining_object_df.shape"
   ]
  },
  {
   "cell_type": "code",
   "execution_count": 70,
   "metadata": {},
   "outputs": [
    {
     "data": {
      "text/html": [
       "<div>\n",
       "<style scoped>\n",
       "    .dataframe tbody tr th:only-of-type {\n",
       "        vertical-align: middle;\n",
       "    }\n",
       "\n",
       "    .dataframe tbody tr th {\n",
       "        vertical-align: top;\n",
       "    }\n",
       "\n",
       "    .dataframe thead th {\n",
       "        text-align: right;\n",
       "    }\n",
       "</style>\n",
       "<table border=\"1\" class=\"dataframe\">\n",
       "  <thead>\n",
       "    <tr style=\"text-align: right;\">\n",
       "      <th></th>\n",
       "      <th>0</th>\n",
       "      <th>1</th>\n",
       "    </tr>\n",
       "  </thead>\n",
       "  <tbody>\n",
       "    <tr>\n",
       "      <th>listing_url</th>\n",
       "      <td>https://www.airbnb.com/rooms/2015</td>\n",
       "      <td>https://www.airbnb.com/rooms/2695</td>\n",
       "    </tr>\n",
       "    <tr>\n",
       "      <th>name</th>\n",
       "      <td>Berlin-Mitte Value! Quiet courtyard/very central</td>\n",
       "      <td>Prenzlauer Berg close to Mauerpark</td>\n",
       "    </tr>\n",
       "    <tr>\n",
       "      <th>summary</th>\n",
       "      <td>Great location!  30 of 75 sq meters. This wood...</td>\n",
       "      <td>NaN</td>\n",
       "    </tr>\n",
       "    <tr>\n",
       "      <th>space</th>\n",
       "      <td>A+++ location! This „Einliegerwohnung“ is an e...</td>\n",
       "      <td>In the summertime we are spending most of our ...</td>\n",
       "    </tr>\n",
       "    <tr>\n",
       "      <th>description</th>\n",
       "      <td>Great location!  30 of 75 sq meters. This wood...</td>\n",
       "      <td>In the summertime we are spending most of our ...</td>\n",
       "    </tr>\n",
       "    <tr>\n",
       "      <th>neighborhood_overview</th>\n",
       "      <td>It is located in the former East Berlin area o...</td>\n",
       "      <td>NaN</td>\n",
       "    </tr>\n",
       "    <tr>\n",
       "      <th>notes</th>\n",
       "      <td>This is my home, not a hotel. I rent out occas...</td>\n",
       "      <td>NaN</td>\n",
       "    </tr>\n",
       "    <tr>\n",
       "      <th>transit</th>\n",
       "      <td>Close to U-Bahn U8 and U2 (metro), Trams M12, ...</td>\n",
       "      <td>Within walking distance you'll find the S-Bahn...</td>\n",
       "    </tr>\n",
       "    <tr>\n",
       "      <th>access</th>\n",
       "      <td>Simple kitchen/cooking, refrigerator, microwav...</td>\n",
       "      <td>Außer deinem Zimmer kannst du noch die Küche u...</td>\n",
       "    </tr>\n",
       "    <tr>\n",
       "      <th>interaction</th>\n",
       "      <td>Always available</td>\n",
       "      <td>NaN</td>\n",
       "    </tr>\n",
       "    <tr>\n",
       "      <th>house_rules</th>\n",
       "      <td>No parties No events No pets No smoking, not e...</td>\n",
       "      <td>NaN</td>\n",
       "    </tr>\n",
       "    <tr>\n",
       "      <th>picture_url</th>\n",
       "      <td>https://a0.muscache.com/im/pictures/260fd609-7...</td>\n",
       "      <td>https://a0.muscache.com/im/pictures/97d4f6e8-1...</td>\n",
       "    </tr>\n",
       "    <tr>\n",
       "      <th>host_url</th>\n",
       "      <td>https://www.airbnb.com/users/show/2217</td>\n",
       "      <td>https://www.airbnb.com/users/show/2986</td>\n",
       "    </tr>\n",
       "    <tr>\n",
       "      <th>host_name</th>\n",
       "      <td>Ian</td>\n",
       "      <td>Michael</td>\n",
       "    </tr>\n",
       "    <tr>\n",
       "      <th>host_about</th>\n",
       "      <td>Believe in sharing economy.</td>\n",
       "      <td>Living with my wife in Berlin.  Like travellin...</td>\n",
       "    </tr>\n",
       "    <tr>\n",
       "      <th>host_thumbnail_url</th>\n",
       "      <td>https://a0.muscache.com/im/pictures/21428a22-4...</td>\n",
       "      <td>https://a0.muscache.com/im/pictures/50434955-1...</td>\n",
       "    </tr>\n",
       "    <tr>\n",
       "      <th>host_picture_url</th>\n",
       "      <td>https://a0.muscache.com/im/pictures/21428a22-4...</td>\n",
       "      <td>https://a0.muscache.com/im/pictures/50434955-1...</td>\n",
       "    </tr>\n",
       "    <tr>\n",
       "      <th>amenities</th>\n",
       "      <td>{TV,\"Cable TV\",Wifi,Kitchen,Gym,Heating,\"Famil...</td>\n",
       "      <td>{Wifi,Kitchen,Elevator,Heating,Washer,Essentia...</td>\n",
       "    </tr>\n",
       "    <tr>\n",
       "      <th>license</th>\n",
       "      <td>NaN</td>\n",
       "      <td>NaN</td>\n",
       "    </tr>\n",
       "  </tbody>\n",
       "</table>\n",
       "</div>"
      ],
      "text/plain": [
       "                                                                       0  \\\n",
       "listing_url                            https://www.airbnb.com/rooms/2015   \n",
       "name                    Berlin-Mitte Value! Quiet courtyard/very central   \n",
       "summary                Great location!  30 of 75 sq meters. This wood...   \n",
       "space                  A+++ location! This „Einliegerwohnung“ is an e...   \n",
       "description            Great location!  30 of 75 sq meters. This wood...   \n",
       "neighborhood_overview  It is located in the former East Berlin area o...   \n",
       "notes                  This is my home, not a hotel. I rent out occas...   \n",
       "transit                Close to U-Bahn U8 and U2 (metro), Trams M12, ...   \n",
       "access                 Simple kitchen/cooking, refrigerator, microwav...   \n",
       "interaction                                             Always available   \n",
       "house_rules            No parties No events No pets No smoking, not e...   \n",
       "picture_url            https://a0.muscache.com/im/pictures/260fd609-7...   \n",
       "host_url                          https://www.airbnb.com/users/show/2217   \n",
       "host_name                                                            Ian   \n",
       "host_about                                   Believe in sharing economy.   \n",
       "host_thumbnail_url     https://a0.muscache.com/im/pictures/21428a22-4...   \n",
       "host_picture_url       https://a0.muscache.com/im/pictures/21428a22-4...   \n",
       "amenities              {TV,\"Cable TV\",Wifi,Kitchen,Gym,Heating,\"Famil...   \n",
       "license                                                              NaN   \n",
       "\n",
       "                                                                       1  \n",
       "listing_url                            https://www.airbnb.com/rooms/2695  \n",
       "name                                  Prenzlauer Berg close to Mauerpark  \n",
       "summary                                                              NaN  \n",
       "space                  In the summertime we are spending most of our ...  \n",
       "description            In the summertime we are spending most of our ...  \n",
       "neighborhood_overview                                                NaN  \n",
       "notes                                                                NaN  \n",
       "transit                Within walking distance you'll find the S-Bahn...  \n",
       "access                 Außer deinem Zimmer kannst du noch die Küche u...  \n",
       "interaction                                                          NaN  \n",
       "house_rules                                                          NaN  \n",
       "picture_url            https://a0.muscache.com/im/pictures/97d4f6e8-1...  \n",
       "host_url                          https://www.airbnb.com/users/show/2986  \n",
       "host_name                                                        Michael  \n",
       "host_about             Living with my wife in Berlin.  Like travellin...  \n",
       "host_thumbnail_url     https://a0.muscache.com/im/pictures/50434955-1...  \n",
       "host_picture_url       https://a0.muscache.com/im/pictures/50434955-1...  \n",
       "amenities              {Wifi,Kitchen,Elevator,Heating,Washer,Essentia...  \n",
       "license                                                              NaN  "
      ]
     },
     "execution_count": 70,
     "metadata": {},
     "output_type": "execute_result"
    }
   ],
   "source": [
    "remaining_object_df[:2].T"
   ]
  },
  {
   "cell_type": "markdown",
   "metadata": {},
   "source": [
    "It looks  like these are not categorical (with the exception perhaps of amenities and licence), so let's export our data."
   ]
  },
  {
   "cell_type": "code",
   "execution_count": 174,
   "metadata": {},
   "outputs": [],
   "source": [
    "df_dropped_cats.to_csv('./coerced_cats.csv')"
   ]
  },
  {
   "cell_type": "code",
   "execution_count": 175,
   "metadata": {},
   "outputs": [],
   "source": [
    "dtypes = df_dropped_cats.dtypes.astype(str).to_dict()"
   ]
  },
  {
   "cell_type": "code",
   "execution_count": 176,
   "metadata": {},
   "outputs": [],
   "source": [
    "import json\n",
    "with open('./dtypes_coerced_cats.json', 'w') as f:\n",
    "    json.dump(dtypes, f)"
   ]
  },
  {
   "cell_type": "markdown",
   "metadata": {},
   "source": [
    "### Summary "
   ]
  },
  {
   "cell_type": "markdown",
   "metadata": {},
   "source": [
    "In this lesson we coercing our categorical data by first identifying our categorical features with the `summarize_cats` method.  We then used `selected_cat_values` to take a look at the common values in each of these columns. \n",
    "\n",
    "Finally, we moved onto coercing our categorical columns.  We made three coercions in all.  First, we replaced sparse values with `other`.  Then, we replaced na values and applied one hot encoding with a DataFrameMapper."
   ]
  },
  {
   "cell_type": "code",
   "execution_count": null,
   "metadata": {},
   "outputs": [],
   "source": []
  }
 ],
 "metadata": {
  "kernelspec": {
   "display_name": "Python 3",
   "language": "python",
   "name": "python3"
  },
  "language_info": {
   "codemirror_mode": {
    "name": "ipython",
    "version": 3
   },
   "file_extension": ".py",
   "mimetype": "text/x-python",
   "name": "python",
   "nbconvert_exporter": "python",
   "pygments_lexer": "ipython3",
   "version": "3.7.4"
  }
 },
 "nbformat": 4,
 "nbformat_minor": 4
}
